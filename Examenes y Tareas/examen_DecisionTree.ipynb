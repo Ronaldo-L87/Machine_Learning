{
  "nbformat": 4,
  "nbformat_minor": 0,
  "metadata": {
    "colab": {
      "provenance": []
    },
    "kernelspec": {
      "name": "python3",
      "display_name": "Python 3"
    },
    "language_info": {
      "name": "python"
    }
  },
  "cells": [
    {
      "cell_type": "markdown",
      "source": [
        "# Realizar una malla de búsqueda para los parámetros de árboles de decisión"
      ],
      "metadata": {
        "id": "fDNq3CUUtDe5"
      }
    },
    {
      "cell_type": "code",
      "source": [
        "from sklearn.datasets import make_classification\n",
        "from sklearn.model_selection import RepeatedStratifiedKFold, GridSearchCV\n",
        "from sklearn.ensemble import AdaBoostClassifier\n",
        "from sklearn.tree import DecisionTreeClassifier\n",
        "from sklearn import datasets\n",
        "from sklearn.model_selection import train_test_split\n",
        "from sklearn.metrics import confusion_matrix\n",
        "import seaborn as sn\n",
        "from sklearn.metrics import precision_score, recall_score, f1_score, accuracy_score\n",
        "import matplotlib.pyplot as plt"
      ],
      "metadata": {
        "id": "Id9by-9wMxMq"
      },
      "execution_count": null,
      "outputs": []
    },
    {
      "cell_type": "code",
      "source": [
        "cancer = datasets.load_breast_cancer()"
      ],
      "metadata": {
        "id": "FMmUK25lM3ph"
      },
      "execution_count": null,
      "outputs": []
    },
    {
      "cell_type": "code",
      "source": [
        "X_train, X_test, y_train, y_test = train_test_split(cancer[\"data\"], cancer[\"target\"], test_size = 0.2)"
      ],
      "metadata": {
        "id": "8n4OG79vQevL"
      },
      "execution_count": null,
      "outputs": []
    },
    {
      "cell_type": "code",
      "source": [
        "model = AdaBoostClassifier()"
      ],
      "metadata": {
        "id": "Q9qpn7xtM59p"
      },
      "execution_count": null,
      "outputs": []
    },
    {
      "cell_type": "code",
      "execution_count": null,
      "metadata": {
        "id": "1mB2KFFJMpvX"
      },
      "outputs": [],
      "source": [
        "grid = dict() # {}\n",
        "grid['n_estimators'] = [50, 100, 250, 500]\n",
        "grid['learning_rate'] = [0.0001, 0.001, .01, 0.1]\n",
        "grid['base_estimator'] = [DecisionTreeClassifier(max_depth=1),\n",
        "                          DecisionTreeClassifier(max_depth=2),\n",
        "                          DecisionTreeClassifier(max_depth=4),\n",
        "                          DecisionTreeClassifier(max_depth=8)]"
      ]
    },
    {
      "cell_type": "code",
      "source": [
        "cv = RepeatedStratifiedKFold(n_splits=10, n_repeats=3, random_state=1)\n",
        "grid_search = GridSearchCV(estimator=model, param_grid=grid, n_jobs=-1,\n",
        "                           cv=cv, scoring='accuracy')\n",
        "grid_result = grid_search.fit(X_train, y_train)\n",
        "\n",
        "print(grid_result.best_params_)\n",
        "\n"
      ],
      "metadata": {
        "id": "lhNDmGclM9M5",
        "colab": {
          "base_uri": "https://localhost:8080/"
        },
        "outputId": "7a5014de-08f3-4741-af6f-81456d4c723c"
      },
      "execution_count": null,
      "outputs": [
        {
          "output_type": "stream",
          "name": "stdout",
          "text": [
            "{'base_estimator': DecisionTreeClassifier(max_depth=1), 'learning_rate': 0.1, 'n_estimators': 250}\n"
          ]
        }
      ]
    },
    {
      "cell_type": "code",
      "source": [
        "print(grid_result.best_params_[\"n_estimators\"])"
      ],
      "metadata": {
        "colab": {
          "base_uri": "https://localhost:8080/"
        },
        "id": "CtoxbNSrR-qs",
        "outputId": "7fcde7e3-8caa-4cdd-ed98-5384cfe051e6"
      },
      "execution_count": null,
      "outputs": [
        {
          "output_type": "stream",
          "name": "stdout",
          "text": [
            "250\n"
          ]
        }
      ]
    },
    {
      "cell_type": "code",
      "source": [
        "clf = AdaBoostClassifier(n_estimators=grid_result.best_params_[\"n_estimators\"], learning_rate = grid_result.best_params_[\"learning_rate\"], base_estimator= grid_result.best_params_[\"base_estimator\"])\n",
        "clf.fit(X_train, y_train)\n",
        "y_pred = clf.predict(X_test)"
      ],
      "metadata": {
        "id": "EnwNLVeQTXw9"
      },
      "execution_count": null,
      "outputs": []
    },
    {
      "cell_type": "code",
      "source": [
        "sn.heatmap(confusion_matrix(y_pred, y_test)/len(y_pred),annot=True)\n",
        "plt.xlabel('Predict')\n",
        "plt.ylabel('Test')\n",
        "plt.title('Confusion matrix AdaBoost')"
      ],
      "metadata": {
        "colab": {
          "base_uri": "https://localhost:8080/",
          "height": 313
        },
        "id": "IFwxALX7UHSV",
        "outputId": "3cc82542-2f5c-401a-be21-a94cd11e5c42"
      },
      "execution_count": null,
      "outputs": [
        {
          "output_type": "execute_result",
          "data": {
            "text/plain": [
              "Text(0.5, 1.0, 'Confusion matrix AdaBoost')"
            ]
          },
          "metadata": {},
          "execution_count": 9
        },
        {
          "output_type": "display_data",
          "data": {
            "text/plain": [
              "<Figure size 432x288 with 2 Axes>"
            ],
            "image/png": "[encoded data removed]"
          },
          "metadata": {
            "needs_background": "light"
          }
        }
      ]
    },
    {
      "cell_type": "code",
      "source": [
        "print('Precision: %.3f' % precision_score(y_test, y_pred))\n",
        "print('Recall: %.3f' % recall_score(y_test, y_pred))\n",
        "print('Accuracy: %.3f' % accuracy_score(y_test, y_pred))\n",
        "print('F1: %.3f' % f1_score(y_test, y_pred))"
      ],
      "metadata": {
        "colab": {
          "base_uri": "https://localhost:8080/"
        },
        "id": "t8nb18vkXLwt",
        "outputId": "2b0b64fb-022b-4681-ee4c-09e00306037a"
      },
      "execution_count": null,
      "outputs": [
        {
          "output_type": "stream",
          "name": "stdout",
          "text": [
            "Precision: 0.972\n",
            "Recall: 0.972\n",
            "Accuracy: 0.965\n",
            "F1: 0.972\n"
          ]
        }
      ]
    }
  ]
}