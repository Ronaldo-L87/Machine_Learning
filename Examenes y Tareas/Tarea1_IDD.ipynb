{
  "cells": [
    {
      "cell_type": "markdown",
      "source": [
        "#Pregunta 1.\n",
        "\n",
        "Nuestro propio intento...\n",
        "Calcular la distancia entre $H_1:wx+b=1$ y $H_2:wx+b=-1$\n",
        "\n",
        "Sabemos que los hiperplanos son paralelos, por lo tanto podemos tomar un punto $P_0$ de un hiperplano y calcular la distancia de un punto al otro hiperplano.\n",
        "Obtendremos $P_0$ de $H_2:w_1x_1+w_2x_w+\\ldots+w_ix_i+\\ldots+w_nx_n+b=-1$ para ello consideramos $x_1=x_2=\\ldots=x_{i-1}=x_{i+1}=\\ldots=x_n=0$ por lo que ahora tenemos $H_2:w_ix_i+b=-1$ y despejamos $x_i=\\frac{-1-b}{w_i}$, entonces:\n",
        "$$P_0=(0,0,\\ldots,\\frac{-1-b}{w_i},\\ldots,0,0)$$\n",
        "Ahora usando la ecuación para hallar la distancia de un punto $P_0=(p_1,\\ldots,p_n)$ a un hiperplano $\\pi\\equiv A_1x_1+\\ldots+A_nx_n+b=0$\n",
        "\n",
        "$$d(P_0,\\pi)=\\left\\lvert \\frac{A_1x_1+\\ldots+A_nx_n+b}{\\sqrt{A_1^2+\\ldots+A_n^2}}\\right\\rvert$$\n",
        "\n",
        "Sustituyendo:\n",
        "$$d(P_0,H_1)=\\left\\lvert \\frac{w_1*0+w_2*0+\\ldots+w_i*\\frac{-1-b}{w_i}+\\ldots+w_n*0+b-1}{\\sqrt{w_1^2+\\ldots+w_n^2}} \\right\\rvert$$\n",
        "$$= \\left\\lvert \\frac{-2}{||w||} \\right\\rvert = \\frac{2}{||w||}$$\n",
        "\n",
        "Investigando la demostración:$$$$\n",
        "Sea $x_+$ un punto sobre el hiperplano: $w \\cdot x_+ +b=1$\n",
        "y sea $x_-$ un punto sobre el hiperplano: $w \\cdot x_- +b = -1$ $$$$\n",
        "La distancia entre los hiperplanos está dado por la proyección de $(x_+ - x_-)$ en el vector normal $w$.\n",
        "$$z=(x_++ - x_-)\\cdot \\frac{w}{||w||}=\\frac{x_+\\cdot w - x_- \\cdot w}{||w||}$$\n",
        "$$=\\frac{1-b-(-1-b)}{||w||}=\\frac{2}{||w||}$$\n"
      ],
      "metadata": {
        "id": "To0HEoT3ieRh"
      }
    },
    {
      "cell_type": "markdown",
      "metadata": {
        "id": "Lg_Bmmsd5UMx"
      },
      "source": [
        "# Pregunta 2\n",
        "\n"
      ]
    },
    {
      "cell_type": "code",
      "execution_count": null,
      "metadata": {
        "colab": {
          "base_uri": "https://localhost:8080/"
        },
        "id": "hImTauqAd-Rf",
        "outputId": "a2b67e42-6405-451a-d359-641f384942ef"
      },
      "outputs": [
        {
          "output_type": "stream",
          "name": "stdout",
          "text": [
            "Looking in indexes: https://pypi.org/simple, https://us-python.pkg.dev/colab-wheels/public/simple/\n",
            "Requirement already satisfied: qpsolvers in /usr/local/lib/python3.8/dist-packages (2.7.3)\n",
            "Requirement already satisfied: numpy>=1.15.4 in /usr/local/lib/python3.8/dist-packages (from qpsolvers) (1.21.6)\n",
            "Requirement already satisfied: scipy>=1.2.0 in /usr/local/lib/python3.8/dist-packages (from qpsolvers) (1.7.3)\n"
          ]
        }
      ],
      "source": [
        "pip install qpsolvers"
      ]
    },
    {
      "cell_type": "code",
      "execution_count": null,
      "metadata": {
        "id": "NBZP5lxM6huT"
      },
      "outputs": [],
      "source": [
        "import pandas as pd\n",
        "import numpy as np\n",
        "from sklearn.model_selection import train_test_split\n",
        "from qpsolvers import solve_qp\n",
        "### Se necesita el archivo iris.csv para su funcionamiento."
      ]
    },
    {
      "cell_type": "markdown",
      "metadata": {
        "id": "Dmf7mB89gouM"
      },
      "source": [
        "Una tarea que se deja a todo estudiante de ciencia de datos es la implementación del\n",
        "algoritmo de la MVS por cuenta propia. Debemos mantener viva esa bonita tradición.\n",
        "Implementar su propia versión de MVS como se expone en la sección 2.2. Nota: El paso\n",
        "más complejo es resolver el problema de optimización cuadrática. Utilicen cualquier\n",
        "librerı́a que pueda facilitarles la resolución de ese paso.\n"
      ]
    },
    {
      "cell_type": "code",
      "execution_count": null,
      "metadata": {
        "colab": {
          "base_uri": "https://localhost:8080/"
        },
        "id": "uWKvU_-_5Y2K",
        "outputId": "e39b1e89-5030-4c7e-f6ea-4f07a266d49a"
      },
      "outputs": [
        {
          "output_type": "stream",
          "name": "stdout",
          "text": [
            "[[5.1, 3.5, 1.4, 0.2], [4.9, 3.0, 1.4, 0.2], [4.7, 3.2, 1.3, 0.2], [4.6, 3.1, 1.5, 0.2], [5.0, 3.6, 1.4, 0.2], [5.4, 3.9, 1.7, 0.4], [4.6, 3.4, 1.4, 0.3], [5.0, 3.4, 1.5, 0.2], [4.4, 2.9, 1.4, 0.2], [4.9, 3.1, 1.5, 0.1], [5.4, 3.7, 1.5, 0.2], [4.8, 3.4, 1.6, 0.2], [4.8, 3.0, 1.4, 0.1], [4.3, 3.0, 1.1, 0.1], [5.8, 4.0, 1.2, 0.2], [5.7, 4.4, 1.5, 0.4], [5.4, 3.9, 1.3, 0.4], [5.1, 3.5, 1.4, 0.3], [5.7, 3.8, 1.7, 0.3], [5.1, 3.8, 1.5, 0.3], [5.4, 3.4, 1.7, 0.2], [5.1, 3.7, 1.5, 0.4], [4.6, 3.6, 1.0, 0.2], [5.1, 3.3, 1.7, 0.5], [4.8, 3.4, 1.9, 0.2], [5.0, 3.0, 1.6, 0.2], [5.0, 3.4, 1.6, 0.4], [5.2, 3.5, 1.5, 0.2], [5.2, 3.4, 1.4, 0.2], [4.7, 3.2, 1.6, 0.2], [4.8, 3.1, 1.6, 0.2], [5.4, 3.4, 1.5, 0.4], [5.2, 4.1, 1.5, 0.1], [5.5, 4.2, 1.4, 0.2], [4.9, 3.1, 1.5, 0.1], [5.0, 3.2, 1.2, 0.2], [5.5, 3.5, 1.3, 0.2], [4.9, 3.1, 1.5, 0.1], [4.4, 3.0, 1.3, 0.2], [5.1, 3.4, 1.5, 0.2], [5.0, 3.5, 1.3, 0.3], [4.5, 2.3, 1.3, 0.3], [4.4, 3.2, 1.3, 0.2], [5.0, 3.5, 1.6, 0.6], [5.1, 3.8, 1.9, 0.4], [4.8, 3.0, 1.4, 0.3], [5.1, 3.8, 1.6, 0.2], [4.6, 3.2, 1.4, 0.2], [5.3, 3.7, 1.5, 0.2], [5.0, 3.3, 1.4, 0.2], [7.0, 3.2, 4.7, 1.4], [6.4, 3.2, 4.5, 1.5], [6.9, 3.1, 4.9, 1.5], [5.5, 2.3, 4.0, 1.3], [6.5, 2.8, 4.6, 1.5], [5.7, 2.8, 4.5, 1.3], [6.3, 3.3, 4.7, 1.6], [4.9, 2.4, 3.3, 1.0], [6.6, 2.9, 4.6, 1.3], [5.2, 2.7, 3.9, 1.4], [5.0, 2.0, 3.5, 1.0], [5.9, 3.0, 4.2, 1.5], [6.0, 2.2, 4.0, 1.0], [6.1, 2.9, 4.7, 1.4], [5.6, 2.9, 3.6, 1.3], [6.7, 3.1, 4.4, 1.4], [5.6, 3.0, 4.5, 1.5], [5.8, 2.7, 4.1, 1.0], [6.2, 2.2, 4.5, 1.5], [5.6, 2.5, 3.9, 1.1], [5.9, 3.2, 4.8, 1.8], [6.1, 2.8, 4.0, 1.3], [6.3, 2.5, 4.9, 1.5], [6.1, 2.8, 4.7, 1.2], [6.4, 2.9, 4.3, 1.3], [6.6, 3.0, 4.4, 1.4], [6.8, 2.8, 4.8, 1.4], [6.7, 3.0, 5.0, 1.7], [6.0, 2.9, 4.5, 1.5], [5.7, 2.6, 3.5, 1.0], [5.5, 2.4, 3.8, 1.1], [5.5, 2.4, 3.7, 1.0], [5.8, 2.7, 3.9, 1.2], [6.0, 2.7, 5.1, 1.6], [5.4, 3.0, 4.5, 1.5], [6.0, 3.4, 4.5, 1.6], [6.7, 3.1, 4.7, 1.5], [6.3, 2.3, 4.4, 1.3], [5.6, 3.0, 4.1, 1.3], [5.5, 2.5, 4.0, 1.3], [5.5, 2.6, 4.4, 1.2], [6.1, 3.0, 4.6, 1.4], [5.8, 2.6, 4.0, 1.2], [5.0, 2.3, 3.3, 1.0], [5.6, 2.7, 4.2, 1.3], [5.7, 3.0, 4.2, 1.2], [5.7, 2.9, 4.2, 1.3], [6.2, 2.9, 4.3, 1.3], [5.1, 2.5, 3.0, 1.1], [5.7, 2.8, 4.1, 1.3]]\n",
            "[-1, -1, -1, -1, -1, -1, -1, -1, -1, -1, -1, -1, -1, -1, -1, -1, -1, -1, -1, -1, -1, -1, -1, -1, -1, -1, -1, -1, -1, -1, -1, -1, -1, -1, -1, -1, -1, -1, -1, -1, -1, -1, -1, -1, -1, -1, -1, -1, -1, -1, 1, 1, 1, 1, 1, 1, 1, 1, 1, 1, 1, 1, 1, 1, 1, 1, 1, 1, 1, 1, 1, 1, 1, 1, 1, 1, 1, 1, 1, 1, 1, 1, 1, 1, 1, 1, 1, 1, 1, 1, 1, 1, 1, 1, 1, 1, 1, 1, 1, 1]\n"
          ]
        }
      ],
      "source": [
        "X=[]\n",
        "Y=[]\n",
        "with open(\"iris.csv\", \"r\") as f:\n",
        "  for line in f:\n",
        "    data=list(line.split(\",\"))\n",
        "    try:\n",
        "      X.append([float(i) for i in data[:4]])\n",
        "    except:\n",
        "      pass\n",
        "    if(data[-1]==\"Iris-setosa\\n\"):\n",
        "      Y.append(-1)\n",
        "    elif(data[-1]==\"Iris-versicolor\\n\"):\n",
        "      Y.append(1)\n",
        "    #elif(data[-1]==\"Iris-virginica\\n\" or data[-1]==\"Iris-virginica\"):\n",
        "    #  Y.append(2)\n",
        "X= X[0:100]\n",
        "print(X)\n",
        "print(Y)"
      ]
    },
    {
      "cell_type": "markdown",
      "metadata": {
        "id": "lYAfngina9uW"
      },
      "source": [
        "Revolvemos y dividimos los datos en un conjunto de entrenamiento con el 75% de estos y el otro 25% para el conjunto de prueba."
      ]
    },
    {
      "cell_type": "code",
      "execution_count": null,
      "metadata": {
        "id": "8SzcaoM3NKfX"
      },
      "outputs": [],
      "source": [
        "X_train, X_test, y_train, y_test = train_test_split(X, Y, test_size=0.2)"
      ]
    },
    {
      "cell_type": "markdown",
      "metadata": {
        "id": "QMENwKXWbS2f"
      },
      "source": [
        "Ahora definimos los vectores y matrices pertenecientes a la función a optimizar con sus respectivs restricciones."
      ]
    },
    {
      "cell_type": "code",
      "execution_count": null,
      "metadata": {
        "id": "YOuevFgGQUxG"
      },
      "outputs": [],
      "source": [
        "y = np.array(y_train).reshape(-1,1) * 1.\n",
        "X_dash = y * X_train\n",
        "H = np.dot(X_dash , X_dash.T) * 1.\n",
        "\n",
        "P = H\n",
        "q = -np.ones(len(X_train))\n",
        "G = -np.eye(len(X_train))\n",
        "h = np.zeros(len(X_train))\n",
        "A = y.reshape(-1,)\n",
        "b = np.array(0)"
      ]
    },
    {
      "cell_type": "markdown",
      "metadata": {
        "id": "SO6FdeX4bh-a"
      },
      "source": [
        "Para optimizar utilizamos esta función \"solve_qp\" que nos regresa el valor de las alfas que optimizan la función."
      ]
    },
    {
      "cell_type": "code",
      "execution_count": null,
      "metadata": {
        "colab": {
          "base_uri": "https://localhost:8080/"
        },
        "id": "3VAzARR02Ynq",
        "outputId": "9fcbeb9c-fada-4ab5-e983-77556829903c"
      },
      "outputs": [
        {
          "output_type": "stream",
          "name": "stdout",
          "text": [
            "QP solution: x = [5.93690342e-05 1.49588894e-04 3.54547411e-05 1.71045782e-04\n",
            " 1.87653946e-04 1.47717632e-04 1.41654567e-04 7.56173732e-05\n",
            " 9.66494657e-05 1.77723573e-04 1.26028180e-04 1.70187257e-04\n",
            " 3.18782781e-05 1.31214215e-04 1.73979148e-04 3.72410489e-05\n",
            " 1.77438270e-04 2.98376604e-05 4.88818516e-05 1.49302003e-04\n",
            " 3.82653882e-05 1.57901678e-01 5.07855363e-05 1.94800425e-04\n",
            " 1.64014576e-04 1.38225459e-04 1.79050580e-04 7.67160642e-02\n",
            " 5.32888033e-05 4.64728179e-05 1.36047222e-04 1.63181606e-04\n",
            " 1.59178875e-04 1.66676940e-04 1.39610585e-04 4.99761593e-05\n",
            " 5.14397899e-05 1.59594964e-04 2.21346337e-05 5.75644284e-05\n",
            " 7.39322023e-05 5.21749225e-05 1.54312174e-04 3.37406161e-05\n",
            " 1.28184242e-04 1.41173173e-04 1.44214146e-04 1.35997585e-04\n",
            " 2.05302613e-04 1.67174914e-04 8.60822683e-05 1.50198722e-04\n",
            " 4.74982243e-05 3.22261433e-05 6.91319682e-01 6.39502945e-05\n",
            " 1.93528781e-04 5.73520161e-05 4.21007508e-05 3.37107558e-05\n",
            " 6.55278039e-05 4.49680636e-05 3.86559904e-05 1.71554214e-04\n",
            " 5.03521328e-05 1.57210127e-04 1.48762274e-04 5.48873152e-06\n",
            " 1.66061274e-04 1.94214609e-04 5.93690342e-05 6.17183011e-05\n",
            " 1.72171261e-04 5.25146758e-05 4.21997841e-05 1.81871189e-04\n",
            " 4.61368345e-01 5.22299908e-05 1.64995474e-04 1.66294493e-04]\n"
          ]
        },
        {
          "output_type": "stream",
          "name": "stderr",
          "text": [
            "/usr/local/lib/python3.8/dist-packages/qpsolvers/conversions/warnings.py:35: UserWarning: Converted P to scipy.sparse.csc.csc_matrix\n",
            "For best performance, build P as a scipy.sparse.csc_matrix rather than as a numpy.ndarray\n",
            "  warnings.warn(\n",
            "/usr/local/lib/python3.8/dist-packages/qpsolvers/conversions/warnings.py:35: UserWarning: Converted G to scipy.sparse.csc.csc_matrix\n",
            "For best performance, build G as a scipy.sparse.csc_matrix rather than as a numpy.ndarray\n",
            "  warnings.warn(\n",
            "/usr/local/lib/python3.8/dist-packages/qpsolvers/conversions/warnings.py:35: UserWarning: Converted A to scipy.sparse.csc.csc_matrix\n",
            "For best performance, build A as a scipy.sparse.csc_matrix rather than as a numpy.ndarray\n",
            "  warnings.warn(\n"
          ]
        }
      ],
      "source": [
        "alfas = solve_qp(P, q, G, h, A, b, solver=\"osqp\")\n",
        "print(\"QP solution: x = {}\".format(alfas))"
      ]
    },
    {
      "cell_type": "code",
      "execution_count": null,
      "metadata": {
        "colab": {
          "base_uri": "https://localhost:8080/"
        },
        "id": "9z2xlIORGHEy",
        "outputId": "ed3a7396-aa5c-4b51-cacf-52b9acd9e42f"
      },
      "outputs": [
        {
          "output_type": "stream",
          "name": "stdout",
          "text": [
            "(4, 1)\n",
            "80\n",
            "(80, 1)\n",
            "(80, 4)\n",
            "(80, 1)\n"
          ]
        }
      ],
      "source": [
        "w = ((y_train * alfas).T @ X_train).reshape(-1,1)\n",
        "print(w.shape)\n",
        "S = np.where(alfas > 0)\n",
        "print(len(S[0]))\n",
        "y_s = np.array(y_train)[S].reshape(len(S[0]),1)\n",
        "print(y_s.shape)\n",
        "X_s = np.array(X_train)[S]\n",
        "print(X_s.shape)\n",
        "alfa_s = np.array(alfas)[S].reshape(len(S[0]),1)\n",
        "print(alfa_s.shape)"
      ]
    },
    {
      "cell_type": "code",
      "execution_count": null,
      "metadata": {
        "colab": {
          "base_uri": "https://localhost:8080/"
        },
        "id": "BqiTGSALO6U2",
        "outputId": "cbb962d3-610b-4fac-b719-619fe1830175"
      },
      "outputs": [
        {
          "output_type": "stream",
          "name": "stdout",
          "text": [
            "[-0.80507686]\n",
            "Esta maquina de vectores creada obtuvo los siguiente resultado en la prueba: 10 / 25 valores de prueba.\n"
          ]
        }
      ],
      "source": [
        "b=0\n",
        "a=0\n",
        "for i in range(len(S[0])):\n",
        "  for j in range(len(S[0])):\n",
        "    b = b + y_s[i] - alfa_s[j] * y_s[j] * np.dot(X_s[j], X_s[i])\n",
        "\n",
        "b = b/len(S[0])\n",
        "print(b)\n",
        "\n",
        "X_test = np.array(X_test)\n",
        "\n",
        "resultados = np.empty(len(X_test))\n",
        "resultados = np.sign(np.dot(w.T,X_test.T)+b)\n",
        "\n",
        "validar = (resultados == y_test).flatten()\n",
        "validar\n",
        "validar = np.where(validar == 1)\n",
        "validar\n",
        "print(\"Esta maquina de vectores creada obtuvo los siguiente resultado en la prueba:\", len(validar[0]),\"/ 25 valores de prueba.\")\n"
      ]
    },
    {
      "cell_type": "markdown",
      "metadata": {
        "id": "M_WvTORqqSgH"
      },
      "source": [
        " hagamos con sklearn"
      ]
    },
    {
      "cell_type": "markdown",
      "metadata": {
        "id": "gQcHyI1vqMT1"
      },
      "source": []
    },
    {
      "cell_type": "code",
      "execution_count": null,
      "metadata": {
        "id": "WFmqPBujhB7k"
      },
      "outputs": [],
      "source": [
        "from sklearn import datasets, svm\n",
        "import numpy as np\n",
        "import matplotlib.pyplot as plt\n",
        "from sklearn.model_selection import train_test_split\n",
        "from sklearn.metrics import recall_score, f1_score, accuracy_score, precision_score"
      ]
    },
    {
      "cell_type": "code",
      "execution_count": null,
      "metadata": {
        "id": "gLhErn0rhkFB"
      },
      "outputs": [],
      "source": [
        "iris = datasets.load_iris()# esto es un  diccionario que se llama iris"
      ]
    },
    {
      "cell_type": "code",
      "execution_count": null,
      "metadata": {
        "colab": {
          "base_uri": "https://localhost:8080/"
        },
        "id": "Rmuq9XlHhqyZ",
        "outputId": "75bafae2-8c9b-4e7c-b898-d8760a06b879"
      },
      "outputs": [
        {
          "output_type": "execute_result",
          "data": {
            "text/plain": [
              "['data',\n",
              " 'target',\n",
              " 'frame',\n",
              " 'target_names',\n",
              " 'DESCR',\n",
              " 'feature_names',\n",
              " 'filename',\n",
              " 'data_module']"
            ]
          },
          "metadata": {},
          "execution_count": 31
        }
      ],
      "source": [
        "list(iris.keys())"
      ]
    },
    {
      "cell_type": "code",
      "execution_count": null,
      "metadata": {
        "colab": {
          "base_uri": "https://localhost:8080/"
        },
        "id": "Ljc4BeRgiRyL",
        "outputId": "b0dc572f-5dfb-43ec-977f-77c81b5038a6"
      },
      "outputs": [
        {
          "output_type": "stream",
          "name": "stdout",
          "text": [
            "[[5.1 3.5 1.4 0.2]\n",
            " [4.9 3.  1.4 0.2]\n",
            " [4.7 3.2 1.3 0.2]\n",
            " [4.6 3.1 1.5 0.2]\n",
            " [5.  3.6 1.4 0.2]\n",
            " [5.4 3.9 1.7 0.4]\n",
            " [4.6 3.4 1.4 0.3]\n",
            " [5.  3.4 1.5 0.2]\n",
            " [4.4 2.9 1.4 0.2]\n",
            " [4.9 3.1 1.5 0.1]\n",
            " [5.4 3.7 1.5 0.2]\n",
            " [4.8 3.4 1.6 0.2]\n",
            " [4.8 3.  1.4 0.1]\n",
            " [4.3 3.  1.1 0.1]\n",
            " [5.8 4.  1.2 0.2]\n",
            " [5.7 4.4 1.5 0.4]\n",
            " [5.4 3.9 1.3 0.4]\n",
            " [5.1 3.5 1.4 0.3]\n",
            " [5.7 3.8 1.7 0.3]\n",
            " [5.1 3.8 1.5 0.3]\n",
            " [5.4 3.4 1.7 0.2]\n",
            " [5.1 3.7 1.5 0.4]\n",
            " [4.6 3.6 1.  0.2]\n",
            " [5.1 3.3 1.7 0.5]\n",
            " [4.8 3.4 1.9 0.2]\n",
            " [5.  3.  1.6 0.2]\n",
            " [5.  3.4 1.6 0.4]\n",
            " [5.2 3.5 1.5 0.2]\n",
            " [5.2 3.4 1.4 0.2]\n",
            " [4.7 3.2 1.6 0.2]\n",
            " [4.8 3.1 1.6 0.2]\n",
            " [5.4 3.4 1.5 0.4]\n",
            " [5.2 4.1 1.5 0.1]\n",
            " [5.5 4.2 1.4 0.2]\n",
            " [4.9 3.1 1.5 0.2]\n",
            " [5.  3.2 1.2 0.2]\n",
            " [5.5 3.5 1.3 0.2]\n",
            " [4.9 3.6 1.4 0.1]\n",
            " [4.4 3.  1.3 0.2]\n",
            " [5.1 3.4 1.5 0.2]\n",
            " [5.  3.5 1.3 0.3]\n",
            " [4.5 2.3 1.3 0.3]\n",
            " [4.4 3.2 1.3 0.2]\n",
            " [5.  3.5 1.6 0.6]\n",
            " [5.1 3.8 1.9 0.4]\n",
            " [4.8 3.  1.4 0.3]\n",
            " [5.1 3.8 1.6 0.2]\n",
            " [4.6 3.2 1.4 0.2]\n",
            " [5.3 3.7 1.5 0.2]\n",
            " [5.  3.3 1.4 0.2]\n",
            " [7.  3.2 4.7 1.4]\n",
            " [6.4 3.2 4.5 1.5]\n",
            " [6.9 3.1 4.9 1.5]\n",
            " [5.5 2.3 4.  1.3]\n",
            " [6.5 2.8 4.6 1.5]\n",
            " [5.7 2.8 4.5 1.3]\n",
            " [6.3 3.3 4.7 1.6]\n",
            " [4.9 2.4 3.3 1. ]\n",
            " [6.6 2.9 4.6 1.3]\n",
            " [5.2 2.7 3.9 1.4]\n",
            " [5.  2.  3.5 1. ]\n",
            " [5.9 3.  4.2 1.5]\n",
            " [6.  2.2 4.  1. ]\n",
            " [6.1 2.9 4.7 1.4]\n",
            " [5.6 2.9 3.6 1.3]\n",
            " [6.7 3.1 4.4 1.4]\n",
            " [5.6 3.  4.5 1.5]\n",
            " [5.8 2.7 4.1 1. ]\n",
            " [6.2 2.2 4.5 1.5]\n",
            " [5.6 2.5 3.9 1.1]\n",
            " [5.9 3.2 4.8 1.8]\n",
            " [6.1 2.8 4.  1.3]\n",
            " [6.3 2.5 4.9 1.5]\n",
            " [6.1 2.8 4.7 1.2]\n",
            " [6.4 2.9 4.3 1.3]\n",
            " [6.6 3.  4.4 1.4]\n",
            " [6.8 2.8 4.8 1.4]\n",
            " [6.7 3.  5.  1.7]\n",
            " [6.  2.9 4.5 1.5]\n",
            " [5.7 2.6 3.5 1. ]\n",
            " [5.5 2.4 3.8 1.1]\n",
            " [5.5 2.4 3.7 1. ]\n",
            " [5.8 2.7 3.9 1.2]\n",
            " [6.  2.7 5.1 1.6]\n",
            " [5.4 3.  4.5 1.5]\n",
            " [6.  3.4 4.5 1.6]\n",
            " [6.7 3.1 4.7 1.5]\n",
            " [6.3 2.3 4.4 1.3]\n",
            " [5.6 3.  4.1 1.3]\n",
            " [5.5 2.5 4.  1.3]\n",
            " [5.5 2.6 4.4 1.2]\n",
            " [6.1 3.  4.6 1.4]\n",
            " [5.8 2.6 4.  1.2]\n",
            " [5.  2.3 3.3 1. ]\n",
            " [5.6 2.7 4.2 1.3]\n",
            " [5.7 3.  4.2 1.2]\n",
            " [5.7 2.9 4.2 1.3]\n",
            " [6.2 2.9 4.3 1.3]\n",
            " [5.1 2.5 3.  1.1]\n",
            " [5.7 2.8 4.1 1.3]\n",
            " [6.3 3.3 6.  2.5]\n",
            " [5.8 2.7 5.1 1.9]\n",
            " [7.1 3.  5.9 2.1]\n",
            " [6.3 2.9 5.6 1.8]\n",
            " [6.5 3.  5.8 2.2]\n",
            " [7.6 3.  6.6 2.1]\n",
            " [4.9 2.5 4.5 1.7]\n",
            " [7.3 2.9 6.3 1.8]\n",
            " [6.7 2.5 5.8 1.8]\n",
            " [7.2 3.6 6.1 2.5]\n",
            " [6.5 3.2 5.1 2. ]\n",
            " [6.4 2.7 5.3 1.9]\n",
            " [6.8 3.  5.5 2.1]\n",
            " [5.7 2.5 5.  2. ]\n",
            " [5.8 2.8 5.1 2.4]\n",
            " [6.4 3.2 5.3 2.3]\n",
            " [6.5 3.  5.5 1.8]\n",
            " [7.7 3.8 6.7 2.2]\n",
            " [7.7 2.6 6.9 2.3]\n",
            " [6.  2.2 5.  1.5]\n",
            " [6.9 3.2 5.7 2.3]\n",
            " [5.6 2.8 4.9 2. ]\n",
            " [7.7 2.8 6.7 2. ]\n",
            " [6.3 2.7 4.9 1.8]\n",
            " [6.7 3.3 5.7 2.1]\n",
            " [7.2 3.2 6.  1.8]\n",
            " [6.2 2.8 4.8 1.8]\n",
            " [6.1 3.  4.9 1.8]\n",
            " [6.4 2.8 5.6 2.1]\n",
            " [7.2 3.  5.8 1.6]\n",
            " [7.4 2.8 6.1 1.9]\n",
            " [7.9 3.8 6.4 2. ]\n",
            " [6.4 2.8 5.6 2.2]\n",
            " [6.3 2.8 5.1 1.5]\n",
            " [6.1 2.6 5.6 1.4]\n",
            " [7.7 3.  6.1 2.3]\n",
            " [6.3 3.4 5.6 2.4]\n",
            " [6.4 3.1 5.5 1.8]\n",
            " [6.  3.  4.8 1.8]\n",
            " [6.9 3.1 5.4 2.1]\n",
            " [6.7 3.1 5.6 2.4]\n",
            " [6.9 3.1 5.1 2.3]\n",
            " [5.8 2.7 5.1 1.9]\n",
            " [6.8 3.2 5.9 2.3]\n",
            " [6.7 3.3 5.7 2.5]\n",
            " [6.7 3.  5.2 2.3]\n",
            " [6.3 2.5 5.  1.9]\n",
            " [6.5 3.  5.2 2. ]\n",
            " [6.2 3.4 5.4 2.3]\n",
            " [5.9 3.  5.1 1.8]]\n",
            "[0 0 0 0 0 0 0 0 0 0 0 0 0 0 0 0 0 0 0 0 0 0 0 0 0 0 0 0 0 0 0 0 0 0 0 0 0\n",
            " 0 0 0 0 0 0 0 0 0 0 0 0 0 1 1 1 1 1 1 1 1 1 1 1 1 1 1 1 1 1 1 1 1 1 1 1 1\n",
            " 1 1 1 1 1 1 1 1 1 1 1 1 1 1 1 1 1 1 1 1 1 1 1 1 1 1 2 2 2 2 2 2 2 2 2 2 2\n",
            " 2 2 2 2 2 2 2 2 2 2 2 2 2 2 2 2 2 2 2 2 2 2 2 2 2 2 2 2 2 2 2 2 2 2 2 2 2\n",
            " 2 2]\n"
          ]
        }
      ],
      "source": [
        "print(iris['data'])\n",
        "print(iris['target'])"
      ]
    },
    {
      "cell_type": "code",
      "execution_count": null,
      "metadata": {
        "id": "KrjZtIc1i3HJ"
      },
      "outputs": [],
      "source": [
        "x_train, x_test, y_train, y_test = train_test_split(iris['data'], iris['target'], test_size = 0.2)\n",
        "train_errors, test_errors = [], []"
      ]
    },
    {
      "cell_type": "code",
      "execution_count": null,
      "metadata": {
        "id": "RK2Whlu-iSCp"
      },
      "outputs": [],
      "source": [
        "#clf = svm.SVC(kernel = 'linear', C=1) este es el normal de clase\n",
        "#clf = svm.SVC(kernel = 'rbf', C=1, gamma = 0.1)  #con un kernet radial\n",
        "#clf = svm.SVC(kernel = 'poly', C=1, degree = 3) # polinomial\n",
        "clf = svm.SVC(kernel = 'sigmoid', C=1, coef0= .5) #kernel signmoide\n"
      ]
    },
    {
      "cell_type": "code",
      "execution_count": null,
      "metadata": {
        "id": "gKVcyPbXjRzj"
      },
      "outputs": [],
      "source": [
        "for x in range(10, len(iris['data'])):\n",
        "  clf.fit(x_train[:x], y_train[:x])\n",
        "  y_train_predict = clf.predict(x_train[:x])\n",
        "  y_test_predict = clf.predict(x_test[:x])\n",
        "  train_errors.append(accuracy_score(y_train[:x], y_train_predict))\n",
        "  test_errors.append(accuracy_score(y_test[:x], y_test_predict))"
      ]
    },
    {
      "cell_type": "code",
      "execution_count": null,
      "metadata": {
        "colab": {
          "base_uri": "https://localhost:8080/",
          "height": 282
        },
        "id": "bAnJzl_zlfav",
        "outputId": "d2700f30-5576-4063-cbe8-ca219cb7b936"
      },
      "outputs": [
        {
          "output_type": "execute_result",
          "data": {
            "text/plain": [
              "<matplotlib.legend.Legend at 0x7fd46159d8e0>"
            ]
          },
          "metadata": {},
          "execution_count": 36
        },
        {
          "output_type": "display_data",
          "data": {
            "text/plain": [
              "<Figure size 432x288 with 1 Axes>"
            ],
            "image/png": "[encoded data removed]"
          },
          "metadata": {
            "needs_background": "light"
          }
        }
      ],
      "source": [
        "plt.plot(train_errors, 'r-', linewidth = 2, label = 'train')\n",
        "plt.plot(test_errors, 'b-', linewidth =2 , label = 'test')\n",
        "plt.legend()"
      ]
    },
    {
      "cell_type": "markdown",
      "metadata": {
        "id": "NRP8m_LzcQkV"
      },
      "source": [
        "# Pregunta 3. Investigar qué es el teorema de Mercer y cuál es su relación con la MVS.\n",
        "\n",
        "Mercer’s Theorem determines which functions can be used as a kernel function. In mathematics, specifically functional analysis, Mercer's theorem states that a symmetric, and positive-definite matrix can be represented as a sum of a convergent sequence of product functions. From Mercer’s theorem a matrix is a Gram Matrix if and only if it is positive and semi-definite, i.e. it is an inner product matrix in some space [CST00]. For a function to be a kernel, then the inner product matrix created by a dataset should necessarily be positive-semi-definite. In plain terms, for some function K that takes two input vectors as arguments, if we apply K to every possible pair of points in our dataset, and write out a corresponding symmetric matrix *G* whose *i,j*th element corresponds to $K(x_i,x_j)$, then K is a valid kernel if and only if that matrix G is positive semi-definite.\n"
      ]
    },
    {
      "cell_type": "markdown",
      "source": [
        "#Pregunta 4."
      ],
      "metadata": {
        "id": "roBjFeJGmcg1"
      }
    },
    {
      "cell_type": "code",
      "source": [
        "import numpy as np\n",
        "import matplotlib.pyplot as plt\n",
        "from sklearn import svm"
      ],
      "metadata": {
        "id": "JaMfbzgzAJNU"
      },
      "execution_count": null,
      "outputs": []
    },
    {
      "cell_type": "code",
      "source": [
        "X = np.c_[\n",
        "    (0.4, -0.7),\n",
        "    (-1.5, -1),\n",
        "    (-1.4, -0.9),\n",
        "    (-1.3, -1.2),\n",
        "    (-1.1, -0.2),\n",
        "    (-1.2, -0.4),\n",
        "    (-0.5, 1.2),\n",
        "    (-1.5, 2.1),\n",
        "    (1, 1),\n",
        "    # --\n",
        "    (1.3, 0.8),\n",
        "    (1.2, 0.5),\n",
        "    (0.2, -2),\n",
        "    (0.5, -2.4),\n",
        "    (0.2, -2.3),\n",
        "    (0, -2.7),\n",
        "    (1.3, 2.1),\n",
        "].T\n",
        "print(X)"
      ],
      "metadata": {
        "colab": {
          "base_uri": "https://localhost:8080/"
        },
        "id": "owJAyzWdAMXt",
        "outputId": "f3820374-d741-4d5a-b65f-1f80115a69e4"
      },
      "execution_count": null,
      "outputs": [
        {
          "output_type": "stream",
          "name": "stdout",
          "text": [
            "[[ 0.4 -0.7]\n",
            " [-1.5 -1. ]\n",
            " [-1.4 -0.9]\n",
            " [-1.3 -1.2]\n",
            " [-1.1 -0.2]\n",
            " [-1.2 -0.4]\n",
            " [-0.5  1.2]\n",
            " [-1.5  2.1]\n",
            " [ 1.   1. ]\n",
            " [ 1.3  0.8]\n",
            " [ 1.2  0.5]\n",
            " [ 0.2 -2. ]\n",
            " [ 0.5 -2.4]\n",
            " [ 0.2 -2.3]\n",
            " [ 0.  -2.7]\n",
            " [ 1.3  2.1]]\n"
          ]
        }
      ]
    },
    {
      "cell_type": "code",
      "source": [
        "Y = [0] * 8 + [1] * 8"
      ],
      "metadata": {
        "id": "meRqHbtNAjfp"
      },
      "execution_count": null,
      "outputs": []
    },
    {
      "cell_type": "markdown",
      "source": [
        "Ajustar los modelos con distintos kernels y se grafican."
      ],
      "metadata": {
        "id": "ynebA7iMBVQ-"
      }
    },
    {
      "cell_type": "code",
      "execution_count": null,
      "metadata": {
        "colab": {
          "base_uri": "https://localhost:8080/",
          "height": 917
        },
        "id": "wMr26M5T8qZS",
        "outputId": "034f8f04-6c0f-4756-b773-62417d239bc7"
      },
      "outputs": [
        {
          "output_type": "display_data",
          "data": {
            "text/plain": [
              "<Figure size 288x216 with 1 Axes>"
            ],
            "image/png": "[encoded data removed]"
          },
          "metadata": {}
        },
        {
          "output_type": "display_data",
          "data": {
            "text/plain": [
              "<Figure size 288x216 with 1 Axes>"
            ],
            "image/png": "[encoded data removed]"
          },
          "metadata": {}
        },
        {
          "output_type": "display_data",
          "data": {
            "text/plain": [
              "<Figure size 288x216 with 1 Axes>"
            ],
            "image/png": "[encoded data removed]"
          },
          "metadata": {}
        },
        {
          "output_type": "display_data",
          "data": {
            "text/plain": [
              "<Figure size 288x216 with 1 Axes>"
            ],
            "image/png": "[encoded data removed]"
          },
          "metadata": {}
        },
        {
          "output_type": "display_data",
          "data": {
            "text/plain": [
              "<Figure size 288x216 with 1 Axes>"
            ],
            "image/png": "[encoded data removed]"
          },
          "metadata": {}
        }
      ],
      "source": [
        "fignum = 1\n",
        "\n",
        "# ajustar el modelo (fi)\n",
        "for grado in range(1,6):\n",
        "    clf = svm.SVC(kernel=\"poly\", degree=grado)\n",
        "    clf.fit(X, Y)\n",
        "\n",
        "    #graficar el hiperplano separador y puntos de datos\n",
        "    plt.figure(fignum, figsize=(4, 3))\n",
        "    plt.clf()\n",
        "\n",
        "    plt.scatter(\n",
        "        clf.support_vectors_[:, 0],\n",
        "        clf.support_vectors_[:, 1],\n",
        "        s=80,\n",
        "        facecolors=\"none\",\n",
        "        zorder=10,\n",
        "        edgecolors=\"k\",\n",
        "    )\n",
        "    plt.scatter(X[:, 0], X[:, 1], c=Y, zorder=10, cmap=plt.cm.Paired, edgecolors=\"k\")\n",
        "\n",
        "    plt.axis(\"tight\")\n",
        "    x_min = -3\n",
        "    x_max = 3\n",
        "    y_min = -3\n",
        "    y_max = 3\n",
        "\n",
        "    XX, YY = np.mgrid[x_min:x_max:200j, y_min:y_max:200j]\n",
        "    Z = clf.decision_function(np.c_[XX.ravel(), YY.ravel()])\n",
        "\n",
        "    # Graficos de colores\n",
        "    Z = Z.reshape(XX.shape)\n",
        "    plt.figure(fignum, figsize=(4, 3))\n",
        "    plt.pcolormesh(XX, YY, Z > 0, cmap=plt.cm.Paired)\n",
        "    plt.contour(\n",
        "        XX,\n",
        "        YY,\n",
        "        Z,\n",
        "        colors=[\"k\", \"k\", \"k\"],\n",
        "        linestyles=[\"--\", \"-\", \"--\"],\n",
        "        levels=[-0.5, 0, 0.5],\n",
        "    )\n",
        "\n",
        "    plt.xlim(x_min, x_max)\n",
        "    plt.ylim(y_min, y_max)\n",
        "\n",
        "    plt.xticks(())\n",
        "    plt.yticks(())\n",
        "    fignum = fignum + 1\n",
        "plt.show()"
      ]
    }
  ],
  "metadata": {
    "colab": {
      "provenance": []
    },
    "kernelspec": {
      "display_name": "Python 3",
      "name": "python3"
    },
    "language_info": {
      "name": "python"
    }
  },
  "nbformat": 4,
  "nbformat_minor": 0
}