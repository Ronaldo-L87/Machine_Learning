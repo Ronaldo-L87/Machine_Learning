{
  "nbformat": 4,
  "nbformat_minor": 0,
  "metadata": {
    "colab": {
      "provenance": []
    },
    "kernelspec": {
      "name": "python3",
      "display_name": "Python 3"
    },
    "language_info": {
      "name": "python"
    }
  },
  "cells": [
    {
      "cell_type": "markdown",
      "source": [
        "# Realizar una malla de búsqueda para un clasificador AdaBoost.\n"
      ],
      "metadata": {
        "id": "IxKMcKcsrb36"
      }
    },
    {
      "cell_type": "code",
      "source": [
        "from sklearn.datasets import make_classification\n",
        "from sklearn.model_selection import RepeatedStratifiedKFold, GridSearchCV\n",
        "from sklearn.ensemble import AdaBoostClassifier\n",
        "from sklearn.tree import DecisionTreeClassifier"
      ],
      "metadata": {
        "id": "Id9by-9wMxMq"
      },
      "execution_count": null,
      "outputs": []
    },
    {
      "cell_type": "code",
      "source": [
        "X, y = make_classification(n_samples=10000, n_features=20,\n",
        "                           n_informative=15, n_redundant=5,\n",
        "                           random_state=6)"
      ],
      "metadata": {
        "id": "FMmUK25lM3ph"
      },
      "execution_count": null,
      "outputs": []
    },
    {
      "cell_type": "code",
      "source": [
        "model = AdaBoostClassifier()"
      ],
      "metadata": {
        "id": "Q9qpn7xtM59p"
      },
      "execution_count": null,
      "outputs": []
    },
    {
      "cell_type": "code",
      "execution_count": null,
      "metadata": {
        "id": "1mB2KFFJMpvX"
      },
      "outputs": [],
      "source": [
        "grid = dict() # {}\n",
        "grid['n_estimators'] = [10, 50, 100, 500, 1000]\n",
        "grid['learning_rate'] = [0.0001, 0.001, .01, 0.1]\n",
        "grid['base_estimator'] = [DecisionTreeClassifier(max_depth=1),\n",
        "                          DecisionTreeClassifier(max_depth=2),\n",
        "                          DecisionTreeClassifier(max_depth=4),\n",
        "                          DecisionTreeClassifier(max_depth=8)]"
      ]
    },
    {
      "cell_type": "code",
      "source": [
        "cv = RepeatedStratifiedKFold(n_splits=10, n_repeats=3, random_state=1)\n",
        "grid_search = GridSearchCV(estimator=model, param_grid=grid, n_jobs=-1,\n",
        "                           cv=cv, scoring='accuracy')\n",
        "grid_result = grid_search.fit(X, y)\n",
        "\n",
        "print(grid)\n",
        "\n",
        "with open('resultados.txt', 'a') as f:\n",
        "  f.write(\"Best: %f using %s\\n\" % (grid_result.best_score_,\n",
        "                                   grid_result.best_params_))\n",
        "\n",
        "print(\"Best: %f using %s\" % (grid_result.best_score_,\n",
        "                             grid_result.best_params_))\n",
        "means = grid_result.cv_results_['mean_test_score']\n",
        "stds = grid_result.cv_results_['std_test_score']\n",
        "params = grid_result.cv_results_['params']\n",
        "for mean, stdev, param in zip(means, stds, params):\n",
        "    print(\"%f (%f) with: %r\" % (mean, stdev, param))"
      ],
      "metadata": {
        "id": "lhNDmGclM9M5"
      },
      "execution_count": null,
      "outputs": []
    }
  ]
}