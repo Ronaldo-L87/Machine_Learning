{
  "nbformat": 4,
  "nbformat_minor": 0,
  "metadata": {
    "colab": {
      "provenance": []
    },
    "kernelspec": {
      "name": "python3",
      "display_name": "Python 3"
    },
    "language_info": {
      "name": "python"
    },
    "accelerator": "GPU",
    "gpuClass": "standard"
  },
  "cells": [
    {
      "cell_type": "markdown",
      "source": [
        "# Realizar una malla de búsqueda para los parámetros de una SVM de kernel radial"
      ],
      "metadata": {
        "id": "VwAqNQUMsyZr"
      }
    },
    {
      "cell_type": "code",
      "source": [
        "from sklearn.datasets import make_classification\n",
        "from sklearn.model_selection import RepeatedStratifiedKFold, GridSearchCV\n",
        "from sklearn import datasets\n",
        "from sklearn.model_selection import train_test_split\n",
        "from sklearn.metrics import confusion_matrix\n",
        "import seaborn as sn\n",
        "from sklearn.metrics import precision_score, recall_score, f1_score, accuracy_score\n",
        "import matplotlib.pyplot as plt\n",
        "import numpy as np\n",
        "\n",
        "from sklearn import svm\n"
      ],
      "metadata": {
        "id": "Id9by-9wMxMq"
      },
      "execution_count": null,
      "outputs": []
    },
    {
      "cell_type": "code",
      "source": [
        "cancer = datasets.load_breast_cancer()"
      ],
      "metadata": {
        "id": "FMmUK25lM3ph"
      },
      "execution_count": null,
      "outputs": []
    },
    {
      "cell_type": "code",
      "source": [
        "x_train, x_test, y_train, y_test = train_test_split(cancer[\"data\"], cancer[\"target\"], test_size = 0.2)"
      ],
      "metadata": {
        "id": "8n4OG79vQevL"
      },
      "execution_count": null,
      "outputs": []
    },
    {
      "cell_type": "code",
      "source": [
        "model = svm.SVC(class_weight='balanced')"
      ],
      "metadata": {
        "id": "Q9qpn7xtM59p"
      },
      "execution_count": null,
      "outputs": []
    },
    {
      "cell_type": "code",
      "source": [
        "grid_params = {}\n",
        "grid_params['kernel'] = ['rbf']\n",
        "grid_params['C'] = [(0.1+ 0.1*k )for k in range(0,20)]\n",
        "grid_params['gamma'] = [(0.1+ 0.1*k) for k in range(0,20)]\n"
      ],
      "metadata": {
        "id": "XbaY1L-x8iKL"
      },
      "execution_count": null,
      "outputs": []
    },
    {
      "cell_type": "code",
      "source": [
        "\n",
        "cv = RepeatedStratifiedKFold(n_splits=10, n_repeats=3, random_state=1)\n",
        "\n",
        "grid_search = GridSearchCV(model, param_grid=grid_params, n_jobs=-1, cv=cv, scoring='balanced_accuracy')\n",
        "grid_result = grid_search.fit(x_train, y_train)\n",
        "print(grid_result.best_params_)\n",
        "\n"
      ],
      "metadata": {
        "id": "0hUd7HBOBstU"
      },
      "execution_count": null,
      "outputs": []
    },
    {
      "cell_type": "code",
      "source": [
        "clf = svm.SVC(C = grid_result.best_params_[\"C\"], gamma = grid_result.best_params_[\"gamma\"], kernel = grid_result.best_params_[\"kernel\"])\n",
        "clf.fit(x_train, y_train)\n",
        "y_pred = clf.predict(x_test)"
      ],
      "metadata": {
        "id": "EnwNLVeQTXw9"
      },
      "execution_count": null,
      "outputs": []
    },
    {
      "cell_type": "code",
      "source": [
        "print('Precision: %.3f' % precision_score(y_test, y_pred))\n",
        "print('Recall: %.3f' % recall_score(y_test, y_pred))\n",
        "print('Accuracy: %.3f' % accuracy_score(y_test, y_pred))\n",
        "print('F1: %.3f' % f1_score(y_test, y_pred))"
      ],
      "metadata": {
        "id": "t8nb18vkXLwt"
      },
      "execution_count": null,
      "outputs": []
    }
  ]
}